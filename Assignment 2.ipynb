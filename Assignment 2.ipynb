{
 "cells": [
  {
   "cell_type": "code",
   "execution_count": 161,
   "id": "2cd938ca",
   "metadata": {},
   "outputs": [
    {
     "name": "stdout",
     "output_type": "stream",
     "text": [
      "Valid product Ids are ----> [23, 12, 2, 6, 56, 78, 55, 62, 48, 90, 77] |||| Invalid product Ids are ----> ['sdsssdsdsf', 'ghghtrgr', 'ttrriotwoit']\n"
     ]
    }
   ],
   "source": [
    "def valid_not_Valid(lis):\n",
    "    valid = []\n",
    "    invalid = []\n",
    "    for i in lis:\n",
    "        if str(i).isnumeric():\n",
    "            valid.append(i)\n",
    "        else:\n",
    "            invalid.append(i)\n",
    "    return f\"Valid product Ids are ----> {valid} |||| Invalid product Ids are ----> {invalid}\"\n",
    "\n",
    "def main():\n",
    "    p = [23,12,2,6,56,78,55,62,48,\"sdsssdsdsf\",90,\"ghghtrgr\",77,\"ttrriotwoit\"]\n",
    "    a = valid_not_Valid(p)\n",
    "    return a\n",
    "\n",
    "if __name__ == \"__main__\":\n",
    "    f = main()\n",
    "    print(f)"
   ]
  },
  {
   "cell_type": "code",
   "execution_count": 20,
   "id": "69d05d92",
   "metadata": {},
   "outputs": [],
   "source": [
    "def find_various(p):\n",
    "    num = []\n",
    "    char = []\n",
    "    spec = []\n",
    "    for i in p:\n",
    "        if str(i).isnumeric():\n",
    "            num.append(i)\n",
    "        elif str(i).isalpha():\n",
    "            char.append(i)\n",
    "        else:\n",
    "            spec.append(i)\n",
    "    return f\"Numbers are ----> {num} ||| Characters are ----> {char} ||| Special Characters are ----> {spec}\""
   ]
  },
  {
   "cell_type": "code",
   "execution_count": 25,
   "id": "c4e07605",
   "metadata": {},
   "outputs": [
    {
     "name": "stdout",
     "output_type": "stream",
     "text": [
      "Numbers are ----> ['4', '3', '9', '8', '5', '9', '4', '3', '0', '4', '5', '4', '7', '9', '7', '3', '8', '8', '9', '8', '9', '5', '9', '8'] ||| Characters are ----> ['u', 'f', 'h', 'd', 'k', 's', 'd', 'l', 'f', 'n', 'j', 'h', 'g', 'j', 'l', 'd', 'n', 'k', 'j', 'd', 's', 'r', 'u', 'u', 'h', 'f', 'j', 'h', 'u', 't', 'y', 'o', 't', 't', 'u', 'j', 'l', 'l', 'g', 'f', 's', 'd', 'd', 'n', 'd', 'g', 'n', 'f', 'i', 'u', 'h', 'g', 'e', 'o', 'r'] ||| Special Characters are ----> ['#', '@', '&', '#', '&', '*', '^', '$', '&', '*', '#', '^', '^', '#', '$', '*', '*', '&', '@', '$']\n"
     ]
    }
   ],
   "source": [
    "f = \"ufhdksdlfnjhgjldnkjdsr4398594304u5479uhfjhu73tyot8tu89jllgfs#@&#&*^$&*#^^#$**&@$ddndgnfiuhgeor89598\"\n",
    "c = find_various(f)\n",
    "print(c)"
   ]
  },
  {
   "cell_type": "code",
   "execution_count": 37,
   "id": "a458807c",
   "metadata": {},
   "outputs": [],
   "source": [
    "def prime_not_prime(z):\n",
    "    prime = []\n",
    "    not_prime = []\n",
    "    for i in z:\n",
    "        count = 0\n",
    "        for j in range(1,i+1):\n",
    "            if i%j == 0:\n",
    "                count+=1\n",
    "        if count>2 or i == 0 or i == 1:\n",
    "            not_prime.append(i)\n",
    "        else:\n",
    "            prime.append(i)\n",
    "    return f\"Prime numbers are {prime} and non prime numbers are {not_prime}\""
   ]
  },
  {
   "cell_type": "code",
   "execution_count": 40,
   "id": "0b0965b4",
   "metadata": {},
   "outputs": [
    {
     "name": "stdout",
     "output_type": "stream",
     "text": [
      "Prime numbers are [7, 11, 59, 53, 79, 89] and non prime numbers are [1, 0, 21, 34, 24]\n"
     ]
    }
   ],
   "source": [
    "d = [1,0,21,34,7,11,59,53,79,89,24]\n",
    "p = prime_not_prime(d)\n",
    "print(p)"
   ]
  },
  {
   "cell_type": "code",
   "execution_count": 147,
   "id": "0cb65876",
   "metadata": {},
   "outputs": [
    {
     "name": "stdout",
     "output_type": "stream",
     "text": [
      "World Hello, Welcome Python\n"
     ]
    }
   ],
   "source": [
    "# \"World Hello, Welcome Python\"\n",
    "g = \"Hello World ,Python Welcome\"\n",
    "b = g.split(\",\")\n",
    "v = []\n",
    "n = []\n",
    "m = []\n",
    "q = []\n",
    "for i in b:\n",
    "    v.append(i.split())\n",
    "for j in v:\n",
    "    j.reverse()\n",
    "    n.append(j)\n",
    "for m in n:\n",
    "    w = \" \".join(m)\n",
    "    q.append(w)\n",
    "l = \", \".join(q)\n",
    "print(l)"
   ]
  },
  {
   "cell_type": "code",
   "execution_count": 151,
   "id": "e90b5ed7",
   "metadata": {},
   "outputs": [
    {
     "name": "stdout",
     "output_type": "stream",
     "text": [
      "Welcome Python, World Hello\n"
     ]
    }
   ],
   "source": [
    "# \"Welcome Python,world hello\"\n",
    "g = \"Hello World ,Python Welcome\"\n",
    "b = g.split(\",\")\n",
    "v = []\n",
    "n = []\n",
    "m = []\n",
    "for i in b:\n",
    "    v.append(i.split())\n",
    "for j in v:\n",
    "    j.reverse()\n",
    "    n.append(j)\n",
    "n.reverse()\n",
    "for z in n:\n",
    "    q = \" \".join(z)\n",
    "    m.append(q)\n",
    "p = \", \".join(m)\n",
    "print(p)"
   ]
  },
  {
   "cell_type": "code",
   "execution_count": 163,
   "id": "fd5e549a",
   "metadata": {},
   "outputs": [
    {
     "name": "stdout",
     "output_type": "stream",
     "text": [
      "Enter a starting Number: 12\n",
      "Enter a Ending Number: 100\n",
      "The || Prime Numbers || are [13, 17, 19, 23, 29, 31, 37, 41, 43, 47, 53, 59, 61, 67, 71, 73, 79, 83, 89, 97] --------------------------------------- || Non prime numbers || are [12, 14, 15, 16, 18, 20, 21, 22, 24, 25, 26, 27, 28, 30, 32, 33, 34, 35, 36, 38, 39, 40, 42, 44, 45, 46, 48, 49, 50, 51, 52, 54, 55, 56, 57, 58, 60, 62, 63, 64, 65, 66, 68, 69, 70, 72, 74, 75, 76, 77, 78, 80, 81, 82, 84, 85, 86, 87, 88, 90, 91, 92, 93, 94, 95, 96, 98, 99, 100]\n"
     ]
    }
   ],
   "source": [
    "def primes(start_num,end_num):\n",
    "    prime = []\n",
    "    not_prime = []\n",
    "    for i in range(start_num,end_num+1):\n",
    "        count = 0\n",
    "        for j in range(1,i+1):\n",
    "            if i%j == 0:\n",
    "                count+=1\n",
    "        if count>2 or i == 1 or i == 0:\n",
    "            not_prime.append(i)\n",
    "        else:\n",
    "            prime.append(i)\n",
    "    return f\"The || Prime Numbers || are {prime} --------------------------------------- || Non prime numbers || are {not_prime}\"\n",
    "\n",
    "\n",
    "def main():\n",
    "    start = int(input(\"Enter a starting Number: \"))\n",
    "    end = int(input(\"Enter a Ending Number: \"))\n",
    "    f = primes(start,end)\n",
    "    return f\n",
    "\n",
    "if __name__ == \"__main__\":\n",
    "    d = main()\n",
    "    print(d)"
   ]
  },
  {
   "cell_type": "code",
   "execution_count": null,
   "id": "c08e51d1",
   "metadata": {},
   "outputs": [],
   "source": [
    "# # \"World Hello, Welcome Python\"\n",
    "# # \"Welcome Python,world hello\"\n",
    "# g = \"Hello World ,Python Welcome\"\n",
    "# b = g.split(\",\")\n",
    "# v = []\n",
    "# n = []\n",
    "# m = []\n",
    "# for i in b:\n",
    "#     v.append(i.split())\n",
    "# for j in v:\n",
    "#     j.reverse()\n",
    "#     n.append(j)\n",
    "# s = \" \".join(n[0])+\", \"+\" \".join(n[-1])\n",
    "# s\n",
    "# #     for z in j:\n",
    "# #         print(z)\n"
   ]
  }
 ],
 "metadata": {
  "kernelspec": {
   "display_name": "Python 3 (ipykernel)",
   "language": "python",
   "name": "python3"
  },
  "language_info": {
   "codemirror_mode": {
    "name": "ipython",
    "version": 3
   },
   "file_extension": ".py",
   "mimetype": "text/x-python",
   "name": "python",
   "nbconvert_exporter": "python",
   "pygments_lexer": "ipython3",
   "version": "3.11.7"
  }
 },
 "nbformat": 4,
 "nbformat_minor": 5
}
