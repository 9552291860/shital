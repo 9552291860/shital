{
 "cells": [
  {
   "cell_type": "code",
   "execution_count": 1,
   "id": "46e13dfb-9362-49d6-87e8-cf165541f592",
   "metadata": {},
   "outputs": [],
   "source": [
    "p = [123,234,42,43,212,34,44,13,'adfadaf','afkhbeq','djfbaj','jgjkl',767,244,23,212,13] "
   ]
  },
  {
   "cell_type": "code",
   "execution_count": 2,
   "id": "a3815ed6-b359-4f39-91f3-6a7dd8652847",
   "metadata": {},
   "outputs": [
    {
     "name": "stdout",
     "output_type": "stream",
     "text": [
      "Numbers: [123, 234, 42, 43, 212, 34, 44, 13, 767, 244, 23, 212, 13]\n",
      "Strings: ['adfadaf', 'afkhbeq', 'djfbaj', 'jgjkl']\n"
     ]
    }
   ],
   "source": [
    "def separate_numbers_and_strings(p):\n",
    "    numbers = []\n",
    "    strings = []\n",
    "    \n",
    "    for item in p:\n",
    "        if isinstance(item, (int, float)):  \n",
    "            numbers.append(item)\n",
    "        elif isinstance(item, str):  \n",
    "            strings.append(item)\n",
    "    return numbers, strings\n",
    "p = [123, 234, 42, 43, 212, 34, 44, 13, 'adfadaf', 'afkhbeq', 'djfbaj', 'jgjkl', 767, 244, 23, 212, 13]\n",
    "\n",
    "numbers, strings = separate_numbers_and_strings(p)\n",
    "\n",
    "print(\"Numbers:\", numbers)\n",
    "print(\"Strings:\", strings)\n"
   ]
  },
  {
   "cell_type": "code",
   "execution_count": 3,
   "id": "4eb78f82-442e-4a68-98e4-5bdce99a0812",
   "metadata": {},
   "outputs": [],
   "source": [
    "p = [32,32,3445,433,5346,66,76,65,79,85,45,5859,9576,242,938,340,39,76] "
   ]
  },
  {
   "cell_type": "code",
   "execution_count": 4,
   "id": "7f8f1c6d-6098-4a53-8726-9488d8e9b47c",
   "metadata": {},
   "outputs": [
    {
     "name": "stdout",
     "output_type": "stream",
     "text": [
      "Prime numbers: [433, 79]\n"
     ]
    }
   ],
   "source": [
    "def is_prime(n):\n",
    "    if n <= 1:\n",
    "        return False\n",
    "    for i in range(2, int(n**0.5) + 1):  # Check divisibility up to the square root of n\n",
    "        if n % i == 0:\n",
    "            return False\n",
    "    return True\n",
    "def find_primes(p):\n",
    "    primes = [num for num in p if is_prime(num)]  # List comprehension to find primes\n",
    "    return primes\n",
    "p = [32, 32, 3445, 433, 5346, 66, 76, 65, 79, 85, 45, 5859, 9576, 242, 938, 340, 39, 76]\n",
    "primes = find_primes(p)\n",
    "print(\"Prime numbers:\", primes)\n"
   ]
  },
  {
   "cell_type": "code",
   "execution_count": 6,
   "id": "3ce569f3-aa1d-49aa-a4c8-976972bdbb3c",
   "metadata": {},
   "outputs": [],
   "source": [
    "p = 'dsfg123refgdf@fdfhgf#$ghgy3576#%778gfgjjl'"
   ]
  },
  {
   "cell_type": "code",
   "execution_count": 7,
   "id": "8587b7d9-d68c-4a25-aff4-8e2b706e3ca0",
   "metadata": {},
   "outputs": [
    {
     "name": "stdout",
     "output_type": "stream",
     "text": [
      "Letters: dsfgrefgdffdfhgfghgygfgjjl\n",
      "Numbers: 1233576778\n",
      "Special Characters: @#$#%\n"
     ]
    }
   ],
   "source": [
    "def separate_characters(p):\n",
    "    letters = []\n",
    "    numbers = []\n",
    "    special_characters = []\n",
    "    for char in p:\n",
    "        if char.isalpha():  # If the character is a letter\n",
    "            letters.append(char)\n",
    "        elif char.isdigit():  # If the character is a number\n",
    "            numbers.append(char)\n",
    "        else:  # Otherwise, it's a special character\n",
    "            special_characters.append(char)\n",
    "\n",
    "    return ''.join(letters), ''.join(numbers), ''.join(special_characters)\n",
    "\n",
    "# Input string\n",
    "p = 'dsfg123refgdf@fdfhgf#$ghgy3576#%778gfgjjl'\n",
    "\n",
    "letters, numbers, special_characters = separate_characters(p)\n",
    "\n",
    "print(\"Letters:\", letters)\n",
    "print(\"Numbers:\", numbers)\n",
    "print(\"Special Characters:\", special_characters)\n"
   ]
  },
  {
   "cell_type": "code",
   "execution_count": 8,
   "id": "f983ed5f-2c01-4289-a962-a78e7e5373d1",
   "metadata": {},
   "outputs": [],
   "source": [
    "p = 'Hello world,Welcomeython'"
   ]
  },
  {
   "cell_type": "code",
   "execution_count": 11,
   "id": "c8da18e2-9771-4519-818f-1a8fe344cd53",
   "metadata": {},
   "outputs": [
    {
     "name": "stdout",
     "output_type": "stream",
     "text": [
      "Welcome python world Hello\n"
     ]
    }
   ],
   "source": [
    "def rearrange_string(p):\n",
    "    words = p.replace(',', ' ').split()\n",
    "    rearranged = [words[1], words[0], words[2], words[3]]\n",
    "    rearranged = [words[2], words[3],words[1], words[0]]\n",
    "    result = ' '.join(rearranged) \n",
    "    return result\n",
    "p = 'Hello world,Welcome python'\n",
    "\n",
    "output = rearrange_string(p)\n",
    "print(output)\n"
   ]
  },
  {
   "cell_type": "code",
   "execution_count": null,
   "id": "47ae6b1f-0dbd-478b-82c5-a6b538833c44",
   "metadata": {},
   "outputs": [],
   "source": []
  }
 ],
 "metadata": {
  "kernelspec": {
   "display_name": "Python 3 (ipykernel)",
   "language": "python",
   "name": "python3"
  },
  "language_info": {
   "codemirror_mode": {
    "name": "ipython",
    "version": 3
   },
   "file_extension": ".py",
   "mimetype": "text/x-python",
   "name": "python",
   "nbconvert_exporter": "python",
   "pygments_lexer": "ipython3",
   "version": "3.12.7"
  }
 },
 "nbformat": 4,
 "nbformat_minor": 5
}
