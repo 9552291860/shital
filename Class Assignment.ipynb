{
 "cells": [
  {
   "cell_type": "markdown",
   "id": "38406c25",
   "metadata": {},
   "source": [
    "1. Prime Number\n",
    "2. Factorial\n",
    "3. Fibonacci\n",
    "4. Armstrong Number\n",
    "5. Palindrome Number\n",
    "6. Duplicate Numbers in a list\n",
    "7. Unique Numbers in a list\n",
    "8. Max\n",
    "9. Min"
   ]
  },
  {
   "cell_type": "markdown",
   "id": "1d168189",
   "metadata": {},
   "source": [
    "p = \"677775656586586abvbcgdhdkabccbavdv$!#@%^&^%#$!ashasvnjdvbdjbjadanbd\"\n",
    "Assignment 1 list:\n",
    "ch = []\n",
    "num = []\n",
    "special Char = []\n",
    "\n",
    "Assignment 2 Dict:\n",
    "ch = {}\n",
    "num = {}\n",
    "special Char = {}\n",
    "\n",
    "Assignment 3 Vowels fetch"
   ]
  },
  {
   "cell_type": "code",
   "execution_count": 3,
   "id": "369c49d8",
   "metadata": {},
   "outputs": [
    {
     "name": "stdout",
     "output_type": "stream",
     "text": [
      "Enter the number to check: 13\n",
      "****************************************************************************************************\n",
      "The Number 13 is a Prime number and its factors are [1, 13]\n"
     ]
    }
   ],
   "source": [
    "# Prime Number\n",
    "num = int(input(\"Enter the number to check: \"))\n",
    "print(\"*\"*100)\n",
    "count = 0\n",
    "factors = []\n",
    "if num == 1 or num == 0:\n",
    "    print(\"1 and 0 are neither prime number nor composite\")\n",
    "else:\n",
    "    for i in range (1,num+1):\n",
    "        if num%i==0:\n",
    "            count+=1\n",
    "            factors.append(i)\n",
    "if count>2:\n",
    "    print(f\"The Number {num} is not a Prime number and its factors are {factors}\")\n",
    "else:\n",
    "    print(f\"The Number {num} is a Prime number and its factors are {factors}\")"
   ]
  },
  {
   "cell_type": "code",
   "execution_count": 7,
   "id": "73b8b0b4",
   "metadata": {},
   "outputs": [
    {
     "name": "stdout",
     "output_type": "stream",
     "text": [
      "Enter the number: 10\n",
      "**************************************************\n",
      "Factorial of number 10 is 3628800\n"
     ]
    }
   ],
   "source": [
    "# Factorial of a number\n",
    "num = int(input(\"Enter the number: \"))\n",
    "print(\"*\"*50)\n",
    "fact = 1\n",
    "for i in range (1,num+1):\n",
    "    fact = fact*i\n",
    "print(f\"Factorial of number {num} is {fact}\")"
   ]
  },
  {
   "cell_type": "code",
   "execution_count": 15,
   "id": "280849c8",
   "metadata": {},
   "outputs": [
    {
     "name": "stdout",
     "output_type": "stream",
     "text": [
      "Enter the number: 10\n",
      "----------------------------------------------------------------------------------------------------\n",
      "The 10 nth fibonacci number is 34\n"
     ]
    }
   ],
   "source": [
    "# Fibonacci\n",
    "num = int(input(\"Enter the number: \"))\n",
    "print(\"-\"*100)\n",
    "a = 0\n",
    "b = 1\n",
    "for i in range (2,num):\n",
    "    fib = a+b\n",
    "    a = b\n",
    "    b = fib\n",
    "print(f\"The {num} nth fibonacci number is {b}\")"
   ]
  },
  {
   "cell_type": "code",
   "execution_count": 41,
   "id": "84a6ca79",
   "metadata": {},
   "outputs": [
    {
     "name": "stdout",
     "output_type": "stream",
     "text": [
      "Enter the number: 10\n",
      "----------------------------------------------------------------------------------------------------\n",
      "The fibonacci series for the 10 nth term is [0, 1, 1, 2, 3, 5, 8, 13, 21, 34]\n"
     ]
    }
   ],
   "source": [
    "num = int(input(\"Enter the number: \"))\n",
    "print(\"-\"*100)\n",
    "s = 0\n",
    "fib = [0,1]\n",
    "for i in range (fib.index(1),num-1):\n",
    "    s+=fib[i]\n",
    "    fib.append(s)\n",
    "    s = fib[i]\n",
    "print(f\"The fibonacci series for the {num} nth term is {fib}\")"
   ]
  },
  {
   "cell_type": "code",
   "execution_count": 25,
   "id": "52f4096f",
   "metadata": {},
   "outputs": [
    {
     "name": "stdout",
     "output_type": "stream",
     "text": [
      "Enter the number: 153\n",
      "----------------------------------------------------------------------------------------------------\n",
      "The Number 153 is an Armstrong Number\n"
     ]
    }
   ],
   "source": [
    "# Armstrong Number\n",
    "num = int(input(\"Enter the number: \"))\n",
    "print(\"-\"*100)\n",
    "n = len(str(num))\n",
    "s = num\n",
    "add = 0\n",
    "while num>0:\n",
    "    f = num%10\n",
    "    add = add + f**n\n",
    "    num = num//10\n",
    "if add == s:\n",
    "    print(f\"The Number {s} is an Armstrong Number\")\n",
    "else:\n",
    "    print(f\"The Number {s} is not an Armstrong Number\")"
   ]
  },
  {
   "cell_type": "code",
   "execution_count": 49,
   "id": "b8ae3701",
   "metadata": {},
   "outputs": [
    {
     "name": "stdout",
     "output_type": "stream",
     "text": [
      "Enter the number: 12121\n",
      "----------------------------------------------------------------------------------------------------\n",
      "The Number 12121 is a Palindrome Number and its reversed Number is 12121\n"
     ]
    }
   ],
   "source": [
    "# Palindrome Number\n",
    "num = int(input(\"Enter the number: \"))\n",
    "print(\"-\"*100)\n",
    "s = num\n",
    "add = 0\n",
    "while num>0:\n",
    "    f = num%10\n",
    "    add = add*10 + f\n",
    "    num = num//10\n",
    "if add == s:\n",
    "    print(\"The Number {} is a Palindrome Number and its reversed Number is {}\".format(s,add))\n",
    "else:\n",
    "    print(\"The Number {} is not a Palindrome Number and its reversed Number is {}\".format(s,add))"
   ]
  },
  {
   "cell_type": "code",
   "execution_count": 64,
   "id": "fafd45e4",
   "metadata": {},
   "outputs": [
    {
     "name": "stdout",
     "output_type": "stream",
     "text": [
      "Duplicate ----> [66, 10, 12, 23]\n",
      "Unique ----> [4, 5, 76, 89, 34, 56, 11]\n"
     ]
    }
   ],
   "source": [
    "# Duplicate and Unique Numbers in a list\n",
    "a = [12,23,4,5,66,76,89,12,34,56,66,10,11,10,23]\n",
    "duplicate = []\n",
    "unique = []\n",
    "for i in a:\n",
    "    count = 0\n",
    "    for j in a:\n",
    "        if i == j:\n",
    "            count+=1\n",
    "    if count == 1:\n",
    "        unique.append(i)\n",
    "    else:\n",
    "        duplicate.append(i)\n",
    "print(f\"Duplicate ----> {list(set(duplicate))}\")\n",
    "print(f\"Unique ----> {unique}\")"
   ]
  },
  {
   "cell_type": "code",
   "execution_count": 69,
   "id": "d7a1b6c3",
   "metadata": {},
   "outputs": [
    {
     "name": "stdout",
     "output_type": "stream",
     "text": [
      "Maximum Number in the list is ----> 104\n",
      "Minimum Number in the list is ----> 1\n"
     ]
    }
   ],
   "source": [
    "# Max and Min\n",
    "a = [12,2,13,14,4,5,8,9,55,67,89,102,104,1]\n",
    "maxx = 0\n",
    "minn = a[0]\n",
    "for i in a:\n",
    "    if i>maxx:\n",
    "        maxx = i\n",
    "for j in a:\n",
    "    if j<minn:\n",
    "        minn = j\n",
    "print(f\"Maximum Number in the list is ----> {maxx}\")\n",
    "print(f\"Minimum Number in the list is ----> {minn}\")"
   ]
  },
  {
   "cell_type": "code",
   "execution_count": 79,
   "id": "e96ac213",
   "metadata": {},
   "outputs": [
    {
     "name": "stdout",
     "output_type": "stream",
     "text": [
      "Characters in the above string are ['a', 'b', 'v', 'b', 'c', 'g', 'd', 'h', 'd', 'k', 'a', 'b', 'c', 'c', 'b', 'a', 'v', 'd', 'v', 'a', 's', 'h', 'a', 's', 'v', 'n', 'j', 'd', 'v', 'b', 'd', 'j', 'b', 'j', 'a', 'd', 'a', 'n', 'b', 'd']\n",
      "----------------------------------------------------------------------------------------------------\n",
      "Numbers in the above string are ['6', '7', '7', '7', '7', '5', '6', '5', '6', '5', '8', '6', '5', '8', '6']\n",
      "----------------------------------------------------------------------------------------------------\n",
      "Special Characters in the above string are ['!', '#', '@', '%', '^', '&', '^', '%', '#', '!']\n"
     ]
    }
   ],
   "source": [
    "p = \"677775656586586abvbcgdhdkabccbavdv!#@%^&^%#!ashasvnjdvbdjbjadanbd\"\n",
    "ch = []\n",
    "num = []\n",
    "spec = []\n",
    "for i in p:\n",
    "    if i.isnumeric():\n",
    "        num.append(i)\n",
    "    elif i.isalpha():\n",
    "        ch.append(i)\n",
    "    else:\n",
    "        spec.append(i)\n",
    "print(f\"Characters in the above string are {ch}\")\n",
    "print(\"-\"*100)\n",
    "print(f\"Numbers in the above string are {num}\")\n",
    "print(\"-\"*100)\n",
    "print(f\"Special Characters in the above string are {spec}\")"
   ]
  },
  {
   "cell_type": "code",
   "execution_count": 80,
   "id": "57763bff",
   "metadata": {},
   "outputs": [
    {
     "name": "stdout",
     "output_type": "stream",
     "text": [
      "Characters in the above string are {'a': 7, 'b': 7, 'v': 5, 'c': 3, 'g': 1, 'd': 7, 'h': 2, 'k': 1, 's': 2, 'n': 2, 'j': 3}\n",
      "----------------------------------------------------------------------------------------------------\n",
      "Numbers in the above string are {'6': 5, '7': 4, '5': 4, '8': 2}\n",
      "----------------------------------------------------------------------------------------------------\n",
      "Special Characters in the above string are {'!': 2, '#': 2, '@': 1, '%': 2, '^': 2, '&': 1}\n"
     ]
    }
   ],
   "source": [
    "p = \"677775656586586abvbcgdhdkabccbavdv!#@%^&^%#!ashasvnjdvbdjbjadanbd\"\n",
    "ch = {}\n",
    "num = {}\n",
    "spec = {}\n",
    "for i in p:\n",
    "    if i.isnumeric():\n",
    "        if i in num:\n",
    "            num[i]+=1\n",
    "        else:\n",
    "            num[i] = 1\n",
    "    elif i.isalpha():\n",
    "        if i in ch:\n",
    "            ch[i]+=1\n",
    "        else:\n",
    "            ch[i] = 1\n",
    "    else:\n",
    "        if i in spec:\n",
    "            spec[i]+=1\n",
    "        else:\n",
    "            spec[i] = 1\n",
    "print(f\"Characters in the above string are {ch}\")\n",
    "print(\"-\"*100)\n",
    "print(f\"Numbers in the above string are {num}\")\n",
    "print(\"-\"*100)\n",
    "print(f\"Special Characters in the above string are {spec}\")"
   ]
  }
 ],
 "metadata": {
  "kernelspec": {
   "display_name": "Python 3 (ipykernel)",
   "language": "python",
   "name": "python3"
  },
  "language_info": {
   "codemirror_mode": {
    "name": "ipython",
    "version": 3
   },
   "file_extension": ".py",
   "mimetype": "text/x-python",
   "name": "python",
   "nbconvert_exporter": "python",
   "pygments_lexer": "ipython3",
   "version": "3.11.7"
  }
 },
 "nbformat": 4,
 "nbformat_minor": 5
}
